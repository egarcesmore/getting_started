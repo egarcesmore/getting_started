{
 "cells": [
  {
   "cell_type": "markdown",
   "metadata": {},
   "source": [
    "<center>\n",
    "    <img src=\"https://cf-courses-data.s3.us.cloud-object-storage.appdomain.cloud/IBMDeveloperSkillsNetwork-DS0105EN-SkillsNetwork/labs/Module2/images/SN_web_lightmode.png\" width=\"300\" alt=\"cognitiveclass.ai logo\">\n",
    "</center>\n"
   ]
  },
  {
   "cell_type": "markdown",
   "metadata": {},
   "source": [
    "[Exercise 2 - Create a markdown cell with the title of the notebook. (1 pt)]: #\n",
    "# Data Science Tools & Python Notebook basic examples\n",
    "___"
   ]
  },
  {
   "cell_type": "markdown",
   "metadata": {},
   "source": [
    "[Exercise 3 - Create a markdown cell for an introduction. (1 pt)]:#\n",
    "This notebook is a first practical exercises about cell use in Python, here it will  mention some themes about data science tools..\n"
   ]
  },
  {
   "cell_type": "markdown",
   "metadata": {},
   "source": [
    "[Exercise 11 - Create a markdown cell to indicate the Author’s name. (2 pts)]:#\n",
    "### Author: Eduardo Garcés More ###\n",
    "Occupation: Business Manager, TI Manager & Data Scientist"
   ]
  },
  {
   "cell_type": "markdown",
   "metadata": {},
   "source": [
    "[Exercise 10 -Insert a markdown cell to list Objectives. (3 pts)]:#\n",
    "### Objectives:\n",
    "\n",
    "This notebook covers this Data Science themes:\n",
    "\n",
    "    - 3 most popular languages\n",
    "    - Python´s libraries more used\n",
    "    - Development environment Tools\n",
    "    - Example about elemental arithmetic operation\n",
    "    - Example above conversión minutes to hours"
   ]
  },
  {
   "cell_type": "markdown",
   "metadata": {},
   "source": [
    "[Exercise 4 - Create a markdown cell to list data science languages. (3 pts)]: #\n",
    "**3 most popular languages in Data Science**\n",
    "\n",
    "    1. Python\n",
    "    2. Language R\n",
    "    3. SQL\n",
    "others: Scala, Julia, Java, Java Scripts, etc. "
   ]
  },
  {
   "cell_type": "markdown",
   "metadata": {},
   "source": [
    "[Exercise 5 - Create a markdown cell to list data science libraries. (3 pts)]: #\n",
    "**Python´s libraries most used:**\n",
    "\n",
    "    1. Numpy\n",
    "    2. Matplotly\n",
    "    3. Scikit Learn"
   ]
  },
  {
   "cell_type": "markdown",
   "metadata": {},
   "source": [
    "[Exercise 6 - Create a markdown cell with a table of Data Science tools. (3 pts)]:#\n",
    "**Develpment Environment Tools**\n",
    "| Data Science Tools |\n",
    "| ------------------ |\n",
    "| JupyterLab         |\n",
    "| R Studio           |\n",
    "| Apache Zeppelin    |\n",
    "    "
   ]
  },
  {
   "cell_type": "markdown",
   "metadata": {},
   "source": [
    "[Exercise 7 - Create a markdown cell introducing arithmetic expression examples. (1 pt)]:#\n",
    "\n",
    "**Example about elemental arithmetic operation**\n",
    "\n",
    "```python\n",
    "    ((3 + 5) / 2) * 7 \n",
    "```\n",
    "    "
   ]
  },
  {
   "cell_type": "code",
   "execution_count": 3,
   "metadata": {},
   "outputs": [
    {
     "data": {
      "text/plain": [
       "28.0"
      ]
     },
     "execution_count": 3,
     "metadata": {},
     "output_type": "execute_result"
    }
   ],
   "source": [
    "# Exercise 8 - Create a code cell to multiply and add numbers.(2 pts)\n",
    "\n",
    "# Below there are 3 operationes: sum, division and multiplication\n",
    "((3 + 5) / 2) * 7"
   ]
  },
  {
   "cell_type": "markdown",
   "metadata": {},
   "source": [
    "[Exercise 9 - Create a code cell to convert minutes to hours. (2 pts)]:#\n",
    "**Example about conversión minutes to hours**"
   ]
  },
  {
   "cell_type": "code",
   "execution_count": 4,
   "metadata": {},
   "outputs": [
    {
     "name": "stdout",
     "output_type": "stream",
     "text": [
      "4.0\n"
     ]
    }
   ],
   "source": [
    "# Here I will show a case about how to convert 240 minutes to hours\n",
    "minutes = 240\n",
    "minutes_by_hour = 60\n",
    "print(minutes / minutes_by_hour)"
   ]
  }
 ],
 "metadata": {
  "kernelspec": {
   "display_name": "Python",
   "language": "python",
   "name": "conda-env-python-py"
  },
  "language_info": {
   "codemirror_mode": {
    "name": "ipython",
    "version": 3
   },
   "file_extension": ".py",
   "mimetype": "text/x-python",
   "name": "python",
   "nbconvert_exporter": "python",
   "pygments_lexer": "ipython3",
   "version": "3.7.12"
  }
 },
 "nbformat": 4,
 "nbformat_minor": 4
}
