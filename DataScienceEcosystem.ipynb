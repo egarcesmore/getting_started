{
 "cells": [
  {
   "cell_type": "markdown",
   "id": "145ae03c-b512-4b5a-9ace-91b91368047a",
   "metadata": {},
   "source": [
    "Exercise 2: Create markdown cell with title of the notebook\n",
    "\n",
    "Create a markdown cell with the title Data Science Tools and Ecosystem using H1 style heading.\n",
    "Take a screenshot of the markdown cell and name it as 2-title.png (Images can be saved with either the .jpg or .png extension.)"
   ]
  },
  {
   "cell_type": "markdown",
   "id": "33e85556-51eb-4e9d-aed6-8667143ce2ba",
   "metadata": {},
   "source": [
    "# Data Science Tools and Ecosystem"
   ]
  },
  {
   "cell_type": "markdown",
   "id": "a493df17-3009-4050-a27a-7f24b2dcafd3",
   "metadata": {
    "tags": []
   },
   "source": [
    "Exercise 3 - Create a markdown cell for an introduction\n",
    "\n",
    "Write an introductory sentence about the notebook such as the follows:\n",
    "\n",
    "In this notebook, Data Science Tools and Ecosystem are summarized.\n",
    "Take a screenshot of the markdown cell and name it as 3-intro.png (Images can be saved with either the .jpg or .png extension.)"
   ]
  },
  {
   "cell_type": "markdown",
   "id": "73af5c44-8259-47b3-97b6-d6077c300137",
   "metadata": {},
   "source": [
    "This notebook is a first practical exercise about cell use in notebook's Python "
   ]
  },
  {
   "cell_type": "markdown",
   "id": "2fdb23a8-6237-4934-aef5-2cf21cb06e29",
   "metadata": {},
   "source": [
    "Exercise 11 - Create a markdown cell to indicate the Author's name\n",
    "\n",
    "In this markdown cell markdown cell include the following text Author in H2 style heading. Include your name as regular text below the word Author.\n",
    "Take a screenshot of the markdown cell and name it as 11-authordetails.png (Images can be saved with either the .jpg or .png extension.)"
   ]
  },
  {
   "cell_type": "markdown",
   "id": "4c709270-fd4f-4413-978a-c0c3a8f82e1e",
   "metadata": {},
   "source": [
    "## Author: Eduardo Garcés More.\n",
    "## Date: 07Mar2023\n"
   ]
  },
  {
   "cell_type": "markdown",
   "id": "3e41cf93-b82d-4709-bd33-8916f991ae6c",
   "metadata": {},
   "source": [
    "Exercise 10 - Insert a markdown cell to list Objectives\n",
    "\n",
    "Below the introduction cell created in Exercise 3, insert a new markdown cell to list the objectives that this notebook covered (i.e. some of the key takeaways from the course). In this new cell start with an introductory line titled: Objectives: in bold font. Then using an unordered list (bullets) indicate 3 to 5 items covered in this notebook, such as List popular languages for Data Science.\n",
    "Take a screenshot of the markdown cell and name it as 10-objectives.png (Images can be saved with either the .jpg or .png extension.)"
   ]
  },
  {
   "cell_type": "markdown",
   "id": "72138b92-fb9f-41b1-8cc2-00419d06b93c",
   "metadata": {},
   "source": [
    "**Objectives:**\n",
    "\n",
    "This notebook covers about Data Science:\n",
    "\n",
    "    3 most popular languages\n",
    "    Python´s libraries more used\n",
    "    Development environment\n",
    "    Elemental arithmetic operations in Jupyter notebook\n"
   ]
  },
  {
   "cell_type": "markdown",
   "id": "09d8d1d3-2d4e-4080-9476-eb889cabfb94",
   "metadata": {},
   "source": [
    "Exercise 4 - Create a markdown cell to list data science languages\n",
    "\n",
    "Start the cell with an overview line such as:\n",
    "\n",
    "Some of the popular languages that Data Scientists use are:\n",
    "Then create an ordered list (i.e. numbered) listing 3 (or more) commonly used languages for data science.\n",
    "Take a screenshot of the markdown cell and name it as 4-dslanguages.png (Images can be saved with either the .jpg or .png extension.)"
   ]
  },
  {
   "cell_type": "markdown",
   "id": "92c93f89-3839-4001-bb37-26aec26d456b",
   "metadata": {},
   "source": [
    "3 most popular languages in Data Science for prediction model building\n",
    "\n",
    "    1. Python\n",
    "    2. Language R\n",
    "    3. SQL\n",
    "\n",
    "others: Scala, Julia, Java, Java Scripts, etc. "
   ]
  },
  {
   "cell_type": "markdown",
   "id": "11b42b1c-b3c9-4e11-b122-ebe1e107eb81",
   "metadata": {},
   "source": [
    "Exercise 5 - Create a markdown cell to list data science libraries\n",
    "\n",
    "Add an overview line to the cell like:\n",
    "\n",
    "Some of the commonly used libraries used by Data Scientists include:\n",
    "Below this line add an ordered list listing 3 (or more) commonly used libraries in data science.\n",
    "Take a screenshot of the markdown cell and name it as 5-dslibraries.png (Images can be saved with either the .jpg or .png extension.)"
   ]
  },
  {
   "cell_type": "markdown",
   "id": "27af130a-070d-46eb-9d2a-60d20ba79836",
   "metadata": {},
   "source": [
    "Python´s libraries most used:\n",
    "\n",
    "    1. Numpy\n",
    "    2. Matplotly\n",
    "    3. Scikit Learn"
   ]
  },
  {
   "cell_type": "markdown",
   "id": "16532cd4-8168-442d-abe3-f98f053a6314",
   "metadata": {},
   "source": [
    "Exercise 6 - Create a markdown cell with a table of Data Science tools\n",
    "\n",
    "Create a single column table in this cell with the first row containing the header Data Science Tools. The subsequent three rows in the table should indicate three development environment open source tools used in data science."
   ]
  },
  {
   "cell_type": "markdown",
   "id": "68c2e413-eb62-4119-9232-bb65c54a4340",
   "metadata": {},
   "source": [
    "Exercise 9 - Advanced Markdown styling\n",
    "\n",
    "To get start using the Markdown feature, click on the drop-down menu at the top and click on Markdown.\n",
    "\n",
    "You can write HTML code in your Markdown cells. We can embed links, try executing the following HTML code in a Markdown cell:\n",
    "\n",
    "<a href=\"https://dataplatform.cloud.ibm.com/gallery\">IBM Cloud Gallery</a> \n",
    "\n",
    "Now, right-click and open the link in a new tab. You should now see a hyperlink to https://dataplatform.cloud.ibm.com/gallery that appears as IBM Cloud Gallery.\n",
    "\n",
    "You can also use Markdown formatting. For example, to use an H1 Header to write a title, try running the following in a Markdown cell: # Header 1. You can find more rules for Markdown formatting in this Markdown Cheatsheet: https://github.com/adam-p/markdown-here/wiki/Markdown-Cheatsheet\n",
    "\n",
    "You can also create HTML tables. To create a table like this,\n",
    "\n",
    "\n",
    "header\theader\n",
    "cell\tcell\n",
    "you can do that by doing the following:\n",
    "\n",
    "| header | header |\n",
    "| ------ | ------ |\n",
    "| cell | cell |"
   ]
  },
  {
   "cell_type": "markdown",
   "id": "10dbe277-96e5-4a57-b1bf-dd6823eee34d",
   "metadata": {},
   "source": [
    "| Data Science Tools |\n",
    "| ------------------ |\n",
    "| JupyterLab         |\n",
    "| RStudio            |\n",
    "| Apache Zeppelin    |"
   ]
  },
  {
   "cell_type": "markdown",
   "id": "89cd92b7-ea83-43f8-84e5-b44cd93f8155",
   "metadata": {},
   "source": [
    "\n",
    "Exercise 7 - Create a markdown cell introducing arithmetic expression examples\n",
    "\n",
    "Add a line in this cell with H3 style heading with text like:\n",
    "\n",
    "Below are a few examples of evaluating arithmetic expressions in Python.\n",
    "Take a screenshot of the markdown cell and name it as 7-introarithmetic.png (Images can be saved with either the .jpg or .png extension.)"
   ]
  },
  {
   "cell_type": "markdown",
   "id": "45d55d0e-9ef7-432b-8644-88858759b3f6",
   "metadata": {},
   "source": [
    "# Example about elemental arithmetic operation"
   ]
  },
  {
   "cell_type": "markdown",
   "id": "795bd917-185e-4826-a045-e5581441b573",
   "metadata": {},
   "source": [
    "Exercise 8 - Create a code cell to multiply and add numbers\n",
    "\n",
    "In this code cell evaluate the expression (3*4)+5.\n",
    "Insert a comment line before the expression to explain the operation e.g.  This a simple arithmetic expression to mutiply then add integers.\n",
    "Then execute the cell to ensure the expression returns the expected output of 17.\n",
    "Take a screenshot of the code cell with output and name it as 8-multiplyandaddintegers.png (Images can be saved with either the .jpg or .png extension.)"
   ]
  },
  {
   "cell_type": "code",
   "execution_count": 5,
   "id": "00ba368c-f0d5-4e28-94af-2f8869736db4",
   "metadata": {},
   "outputs": [
    {
     "data": {
      "text/plain": [
       "28.0"
      ]
     },
     "execution_count": 5,
     "metadata": {},
     "output_type": "execute_result"
    }
   ],
   "source": [
    "# below there are 3 operationes: sum, division and multiplication \n",
    "((3 + 5) / 2) * 7"
   ]
  },
  {
   "cell_type": "markdown",
   "id": "8b9ea27a-bc99-44b6-8c60-68a1f574f869",
   "metadata": {},
   "source": [
    "Exercise 9 - Create a code cell to convert minutes to hours\n",
    "\n",
    "In this code cell write an expression that converts 200 minutes into hours.\n",
    "Insert a comment line before the expression to explain the operation e.g.  This will convert 200 minutes to hours by diving by 60.\n",
    "Run the cell to evaluate the expression.\n",
    "Take a screenshot of the code cell with output and name it as 9-hourstominutes.png (Images can be saved with either the .jpg or .png extension.)"
   ]
  },
  {
   "cell_type": "code",
   "execution_count": 8,
   "id": "78cf3f89-89bc-47c9-a310-b29572920498",
   "metadata": {},
   "outputs": [
    {
     "name": "stdout",
     "output_type": "stream",
     "text": [
      "4.0\n"
     ]
    }
   ],
   "source": [
    "# Here I will show a case about how to convert from minutes to hours\n",
    "minutes = 240\n",
    "minutes_by_hour = 60\n",
    "print(minutes / minutes_by_hour)"
   ]
  }
 ],
 "metadata": {
  "kernelspec": {
   "display_name": "Python",
   "language": "python",
   "name": "conda-env-python-py"
  },
  "language_info": {
   "codemirror_mode": {
    "name": "ipython",
    "version": 3
   },
   "file_extension": ".py",
   "mimetype": "text/x-python",
   "name": "python",
   "nbconvert_exporter": "python",
   "pygments_lexer": "ipython3",
   "version": "3.7.12"
  }
 },
 "nbformat": 4,
 "nbformat_minor": 5
}
